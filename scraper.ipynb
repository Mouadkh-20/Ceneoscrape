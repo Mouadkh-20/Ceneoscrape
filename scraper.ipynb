{
 "cells": [
  {
   "cell_type": "markdown",
   "metadata": {},
   "source": [
    "### Imports"
   ]
  },
  {
   "cell_type": "code",
   "execution_count": 2,
   "metadata": {},
   "outputs": [],
   "source": [
    "import os\n",
    "import json\n",
    "import requests\n",
    "from bs4 import BeautifulSoup"
   ]
  },
  {
   "cell_type": "markdown",
   "metadata": {},
   "source": [
    "UTILS\n",
    "\n"
   ]
  },
  {
   "cell_type": "code",
   "execution_count": null,
   "metadata": {},
   "outputs": [],
   "source": [
    "def extract (ancestor,selectour,attributer=None):\n",
    " if attributer:\n",
    "    try:\n",
    "       return ancestor.select_one(selectour)[attributer]\n",
    "    except TypeError:\n",
    "      return None,\n",
    "   try:\n",
    "       return ancestor.select_one(selectour).get_text()\n",
    "    "
   ]
  },
  {
   "cell_type": "markdown",
   "metadata": {},
   "source": [
    "2. Sending HTTP request to acces first page with opinions"
   ]
  },
  {
   "cell_type": "code",
   "execution_count": null,
   "metadata": {},
   "outputs": [],
   "source": [
    "headers = {\n",
    "    \"cookie\":\"__RequestVerificationToken=CqfupQ0FWDvv899MB8mLGnP8OwZz86aVemPARuTH7RVUIU-Ys1V9QG_JkBmLEF4gohTHO6CZ9lcmyuDa8ZAZhuNMrBhHkIUa_ajkpcrxqWY1; userCeneo=ID=14d0f7fd-cb3c-4f99-8197-156f6a522772; ai_user=zoGTf|2025-04-07T11:54:59.175Z; appType=%7B%22Value%22%3A1%7D; cProdCompare_v2=; __utmf=0e4d2bc0811cfc6f0c56163bd5b790d3_k2wCRI6tAVQ9FXqBZshhQvo35Yf981ST; ai_session=NcToE|1744026899430.9|1744026899430.9; __rtbh.uid=%7B%22eventType%22%3A%22uid%22%2C%22id%22%3A%22unknown%22%2C%22expiryDate%22%3A%222026-04-07T11%3A54%3A59.839Z%22%7D; __rtbh.lid=%7B%22eventType%22%3A%22lid%22%2C%22id%22%3A%22y80EyCpxigAIl5MPGnqe%22%2C%22expiryDate%22%3A%222026-04-07T11%3A54%3A59.839Z%22%7D; __eoi=ID=11ee1a9bc96a2500:T=1744026899:RT=1744026899:S=AA-AfjYNtr6l4xhvytQEJAnljOh6; browserBlStatus=0; ga4_ga=GA1.2.2138fa8e-13a7-11f0-a9b8-1e0fe7817f90; _gcl_au=1.1.703761435.1744026902; ga4_ga_K2N2M0CBQ6=GS1.2.1744026899.1.0.1744026901.0.0.1574989690; consentcookie=eyJBZ3JlZUFsbCI6dHJ1ZSwiQ29uc2VudHMiOlsxLDMsNCwyXSwiVENTdHJpbmciOiJDUVBmdGNBUVBmdGNBR3lBQkJQTEJrRXNBUF9nQUFBQUFCNVlJTnBEN0JiQkxVRkF3RmhqWUtzUU1JRVRVTUNBQW9RQUFBYUJBQ0FCUUFLUUlBUUNra0FRQkFTZ0JBQUNBQUFBSUNSQklRQU1BQUFBQ0VBQVFBQUFJQUFFQUFDUUJRQUlBQUFBZ0FBUUFBQVlBQUFpQUlBQUFBQUlnQUlBRUFBQW1RaEFBQUlBRUVBQWhBQUVJQUFBQUFBQUFBQUFBZ0FBQUFBQ0FBSUFBQUFBQUNBQUFJSU5nQUFBQUFBQUFBQUFBQUFBQUFBQUFBQUFBQUFBQUFBQUFBQUFBQUFBQUFBQUFBQUFBQUFBQUFBQUFBQUFBQUFBQUFBQUFBQUFBQUFBQUFBQUFBQUFBQUFBQUFBQUFBQUFBQUFBQUFBQUFBQUFBQUFBQUFBQUFBQUFBQUFBQUFBQUFBQUFBQUFBQUFBQUFBQUFBQUFBQUFBQUFBQUFBQUFBQUFBQUFBQUFBQUFBQUFBQUJZS0FEQUFFRUd3a0FHQUFJSU5ob0FNQUFRUWJFUUFZQUFnZzJLZ0F3QUJCQnNaQUJnQUNDRFk2QURBQUVFR3lFQUdBQUlJTmtvQU1BQVFRYktRQVlBQWdnMldnQXdBQkJCc0EiLCJWZXJzaW9uIjoidjMifQ==; FPID=FPID2.2.dF3SpWypw3zUBdbdtzU%2FkKzyZwZLqynQxEe%2Fgx0J1U8%3D; FPLC=2hS0eDjqbUdHdRbJ8g9E%2Bjy68akld6%2F68NbxQJzpEE60ZueM6LMCPdbGJFFTN3FsMmZp2gVtUUhHpFHVY7m8Fb8mrIOA7MT7Nyzcecd4Cain0jE%3D\",\n",
    "    \"headers\" : \"Mozilla/5.0 (Macintosh; Intel Mac OS X 10_15_7) AppleWebKit/537.36 (KHTML, like Gecko) Chrome/134.0.0.0 Safari/537.3\",\n",
    "    \"host\" : \"www.ceneo.pl\",}"
   ]
  },
  {
   "cell_type": "code",
   "execution_count": null,
   "metadata": {},
   "outputs": [],
   "source": [
    "with open(\"./cookie.jason\",\"r\") as jf:\n",
    "    headers = jason.load(jf)"
   ]
  },
  {
   "cell_type": "code",
   "execution_count": 27,
   "metadata": {},
   "outputs": [],
   "source": [
    "url = \"https://www.ceneo.pl/84514582#tab=reviews\"\n",
    "response = requests.get(url,headers=headers)\n"
   ]
  },
  {
   "cell_type": "markdown",
   "metadata": {},
   "source": [
    "3. Checking the code of HTTP responce"
   ]
  },
  {
   "cell_type": "code",
   "execution_count": null,
   "metadata": {},
   "outputs": [],
   "source": [
    "response.status_code"
   ]
  },
  {
   "cell_type": "markdown",
   "metadata": {},
   "source": [
    "4. Parse the HTML code of first page wih opinions"
   ]
  },
  {
   "cell_type": "code",
   "execution_count": 29,
   "metadata": {},
   "outputs": [],
   "source": [
    "page_dom = BeautifulSoup(response.text, 'html.parser')"
   ]
  },
  {
   "cell_type": "markdown",
   "metadata": {},
   "source": [
    "5. Extract required data from parsed code"
   ]
  },
  {
   "cell_type": "code",
   "execution_count": null,
   "metadata": {},
   "outputs": [],
   "source": [
    "opinions = page_dom.select(\"div.js_product-review:not(.user-post--highlight)\")\n",
    "for opinion in opinions:\n",
    "    opinion_id = opinion[\"data-entry-id\"]\n",
    "    author = opinion.select_one(\"span.user-post__author-name\").get_text()\n",
    "    try:\n",
    "        recommendation = opinion.select_one(\"span.user-post__author-recomendation > em\").get_text()\n",
    "    except AttributeError:\n",
    "        recommendation = None\n",
    "    stars = opinion.select_one(\"span.user-post__score-count\").get_text()\n",
    "    content = opinion.select_one(\"div.user-post__text\").get_text()\n",
    "    pros = [p.get_text() for p in opinion.select(\"div.review-feature__item--positive\")]\n",
    "    cons = [c.get_text() for c in opinion.select(\"div.review-feature__item--negative\")]\n",
    "    vote_yes = opinion.select_one(\"button.vote-yes\")[\"data-total-vote\"]\n",
    "    vote_no = opinion.select_one(\"button.vote-no\")[\"data-total-vote\"]\n",
    "    published = opinion.select_one(\"span.user-post__published > time:nth-child(1)\")[\"datetime\"]\n",
    "    try:\n",
    "        purchased = opinion.select_one(\"span.user-post__published > time:nth-child(2)\")[\"datetime\"]\n",
    "    except TypeError:\n",
    "        purchased = None\n",
    "    print(opinion_id, author, recommendation, stars, content, pros, cons, vote_yes, vote_no, published, purchased, sep='\\n')"
   ]
  },
  {
   "cell_type": "markdown",
   "metadata": {},
   "source": [
    "6. If there are more pages, move to the next page and repeat steps 2-6 for it"
   ]
  },
  {
   "cell_type": "code",
   "execution_count": 31,
   "metadata": {},
   "outputs": [],
   "source": [
    "try:\n",
    "    next_page = \"https://www.ceneo.pl\" + page_dom.select_one(\"a.pagination__next\")[\"href\"]\n",
    "except TypeError:\n",
    "    next_page = None"
   ]
  },
  {
   "cell_type": "code",
   "execution_count": null,
   "metadata": {},
   "outputs": [],
   "source": [
    "product_id = \"84514582\"\n",
    "next_page = \"https://www.ceneo.pl/{product_id}#tab=reviews\"\n",
    "all_opinions = []\n",
    "while next_page:\n",
    "    response = requests.get(next_page, headers=headers)\n",
    "    if response.status_code == 200:\n",
    "        print(next_page)\n",
    "        page_dom = BeautifulSoup(response.text, 'html.parser')\n",
    "        opinions = page_dom.select(\"div.js_product-review:not(.user-post--highlight)\")\n",
    "        print(len(opinions))\n",
    "        for opinion in opinions:\n",
    "            single_opinion = {}\n",
    "            single_opinion[\"opinion_id\"] = opinion[\"data-entry-id\"]\n",
    "            single_opinion[\"author\"] = opinion.select_one(\"span.user-post__author-name\").get_text()\n",
    "            try:\n",
    "                single_opinion[\"recommendation\"] = opinion.select_one(\"span.user-post__author-recomendation > em\").get_text()\n",
    "            except AttributeError:\n",
    "                single_opinion[\"recommendation\"] = None\n",
    "            single_opinion[\"stars\"] = opinion.select_one(\"span.user-post__score-count\").get_text()\n",
    "            single_opinion[\"content\"] = opinion.select_one(\"div.user-post__text\").get_text()\n",
    "            single_opinion[\"pros\"] = [p.get_text() for p in opinion.select(\"div.review-feature__item--positive\")]\n",
    "            single_opinion[\"cons\"] = [c.get_text() for c in opinion.select(\"div.review-feature__item--negative\")]\n",
    "            single_opinion[\"vote_yes\"] = opinion.select_one(\"button.vote-yes\")[\"data-total-vote\"]\n",
    "            single_opinion[\"vote_no\"] = opinion.select_one(\"button.vote-no\")[\"data-total-vote\"]\n",
    "            single_opinion[\"published\"] = opinion.select_one(\"span.user-post__published > time:nth-child(1)\")[\"datetime\"]\n",
    "            try:\n",
    "                 single_opinion[\"purchased\"] = opinion.select_one(\"span.user-post__published > time:nth-child(2)\")[\"datetime\"]\n",
    "            except TypeError:\n",
    "                 single_opinion[\"purchased\"] = None\n",
    "            all_opinions.append(single_opinion)\n",
    "        try:\n",
    "            next_page = \"https://www.ceneo.pl\" + page_dom.select_one(\"a.pagination__next\")[\"href\"]\n",
    "        except TypeError:\n",
    "            next_page = None\n",
    "    else:\n",
    "        print(\"NOT OK\")\n",
    "print(all_opinions)"
   ]
  },
  {
   "cell_type": "code",
   "execution_count": null,
   "metadata": {},
   "outputs": [],
   "source": [
    "if not os.path.exists(\"./opinions\"):\n",
    " os.mkdir\n",
    " (\"./opinions\")\n",
    "with open(f\"{product_id}.json\", \"w\", encoding=\"utf-8\") as jf:\n",
    "    json.dump(all_opinions, jf,ensure_ascii=False)    "
   ]
  }
 ],
 "metadata": {
  "kernelspec": {
   "display_name": ".venv",
   "language": "python",
   "name": "python3"
  },
  "language_info": {
   "codemirror_mode": {
    "name": "ipython",
    "version": 3
   },
   "file_extension": ".py",
   "mimetype": "text/x-python",
   "name": "python",
   "nbconvert_exporter": "python",
   "pygments_lexer": "ipython3",
   "version": "3.11.4"
  }
 },
 "nbformat": 4,
 "nbformat_minor": 2
}
